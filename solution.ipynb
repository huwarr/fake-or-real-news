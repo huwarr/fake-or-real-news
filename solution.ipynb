{
 "cells": [
  {
   "cell_type": "markdown",
   "id": "d8cd43a8",
   "metadata": {},
   "source": [
    "# Тестовое задание\n",
    "\n",
    "Для выполнения тестового задания требуется разработать модель, которая будет способна различать заголовки реальных и выдуманных новостей.\n",
    "Для обучения модели используйте данные из файла `train.tsv`. В файле находится таблица, состоящая из двух колонок. \n",
    "В колонке title записан заголовок новости. В колонке is_fake содержатся метки: 0 – новость реальная; 1 – новость выдуманная.\n",
    "Для демонстрации работы модели используйте данные тестового набора из файла `test.tsv`. В нем также есть колонка title, данные которой являются входными для вашей модели.\n",
    "Вам нужно скопировать файл `test.tsv`, переименовать его в `predictions.tsv` и заполнить колонку is_fake значениями предсказаний вашей модели, аналогично `train.tsv`. \n",
    "Изначально колонка заполнена значением 0.\n",
    "\n",
    "# Критерии оценки\n",
    "1. Для оценки финального решения будет использоваться метрика F1 score.\n",
    "2. Чистота кода, оформление и понятность исследования.\n",
    "\n",
    "# Требования к решению\n",
    "В качестве решения мы ожидаем zip-архив со всеми *.py и *.ipynb файлами в папке solution и файлом `predictions.tsv` в корне. Формат имени zip-архива: LastName_FirstName.zip (пример Ivanov_Ivan.zip).\n",
    "Файл `predictions.tsv` должен включать в себя колонку title, содержащую те же данные, что и исходный файл `test.tsv`, а также колонку is_fake, содержащую значения 0 или 1.\n",
    "Разметка тестового набора данных и включение его в обучение/валидацию запрещены.\n",
    "\n",
    "В папке solution должно быть отражено исследование и весь код, необходимый для воспроизведения исследования.\n",
    "\n",
    "Успехов!"
   ]
  },
  {
   "cell_type": "code",
   "execution_count": 20,
   "id": "bc900ea7",
   "metadata": {},
   "outputs": [],
   "source": [
    "# NLP related\n",
    "import nltk\n",
    "from nltk.tokenize import word_tokenize\n",
    "from pymorphy2 import MorphAnalyzer\n",
    "from sklearn.feature_extraction.text import TfidfVectorizer\n",
    "from gensim.models import Word2Vec\n",
    "\n",
    "# Models\n",
    "from sklearn.linear_model import LogisticRegression\n",
    "from sklearn.svm import SVC\n",
    "\n",
    "# Others\n",
    "import pandas as pd\n",
    "import numpy as np\n",
    "from tqdm import tqdm\n",
    "import warnings\n",
    "from sklearn.exceptions import ConvergenceWarning\n",
    "from sklearn.model_selection import train_test_split\n",
    "from sklearn.metrics import f1_score\n",
    "import matplotlib.pyplot as plt"
   ]
  },
  {
   "cell_type": "markdown",
   "id": "b200ede4",
   "metadata": {},
   "source": [
    "# Работа с данными"
   ]
  },
  {
   "cell_type": "markdown",
   "id": "15af6b5a",
   "metadata": {},
   "source": [
    "### Загрузка данных"
   ]
  },
  {
   "cell_type": "code",
   "execution_count": 2,
   "id": "b47dceea",
   "metadata": {},
   "outputs": [],
   "source": [
    "train = pd.read_csv('dataset/train.tsv', sep='\\t')\n",
    "test = pd.read_csv('dataset/test.tsv', sep='\\t')"
   ]
  },
  {
   "cell_type": "code",
   "execution_count": 3,
   "id": "a8d9cec5",
   "metadata": {},
   "outputs": [
    {
     "data": {
      "text/html": [
       "<div>\n",
       "<style scoped>\n",
       "    .dataframe tbody tr th:only-of-type {\n",
       "        vertical-align: middle;\n",
       "    }\n",
       "\n",
       "    .dataframe tbody tr th {\n",
       "        vertical-align: top;\n",
       "    }\n",
       "\n",
       "    .dataframe thead th {\n",
       "        text-align: right;\n",
       "    }\n",
       "</style>\n",
       "<table border=\"1\" class=\"dataframe\">\n",
       "  <thead>\n",
       "    <tr style=\"text-align: right;\">\n",
       "      <th></th>\n",
       "      <th>title</th>\n",
       "      <th>is_fake</th>\n",
       "    </tr>\n",
       "  </thead>\n",
       "  <tbody>\n",
       "    <tr>\n",
       "      <th>0</th>\n",
       "      <td>Москвичу Владимиру Клутину пришёл счёт за вмеш...</td>\n",
       "      <td>1</td>\n",
       "    </tr>\n",
       "    <tr>\n",
       "      <th>1</th>\n",
       "      <td>Агент Кокорина назвал езду по встречке житейск...</td>\n",
       "      <td>0</td>\n",
       "    </tr>\n",
       "    <tr>\n",
       "      <th>2</th>\n",
       "      <td>Госдума рассмотрит возможность введения секрет...</td>\n",
       "      <td>1</td>\n",
       "    </tr>\n",
       "  </tbody>\n",
       "</table>\n",
       "</div>"
      ],
      "text/plain": [
       "                                               title  is_fake\n",
       "0  Москвичу Владимиру Клутину пришёл счёт за вмеш...        1\n",
       "1  Агент Кокорина назвал езду по встречке житейск...        0\n",
       "2  Госдума рассмотрит возможность введения секрет...        1"
      ]
     },
     "execution_count": 3,
     "metadata": {},
     "output_type": "execute_result"
    }
   ],
   "source": [
    "train.head(3)"
   ]
  },
  {
   "cell_type": "markdown",
   "id": "b9a492a8",
   "metadata": {},
   "source": [
    "### EDA"
   ]
  },
  {
   "cell_type": "markdown",
   "id": "50c95bd7",
   "metadata": {},
   "source": [
    "Предобработка текстовых данных сильно влияет на качество итогового решения.\n",
    "\n",
    "Преобразования, которые могут улучшить качество: \n",
    "\n",
    "1) Привести слова к нижнему регистру\n",
    "\n",
    "2) Удалить знаки препинания и числа\n",
    "\n",
    "3) Токенизировать текст\n",
    "\n",
    "4) Лемматизация (приведение слова к нормальной форме)"
   ]
  },
  {
   "cell_type": "code",
   "execution_count": 5,
   "id": "5cd7e971",
   "metadata": {
    "collapsed": true
   },
   "outputs": [
    {
     "name": "stderr",
     "output_type": "stream",
     "text": [
      "[nltk_data] Downloading package punkt to /Users/madina/nltk_data...\n",
      "[nltk_data]   Package punkt is already up-to-date!\n",
      "[nltk_data] Downloading package wordnet to /Users/madina/nltk_data...\n",
      "[nltk_data]   Package wordnet is already up-to-date!\n"
     ]
    }
   ],
   "source": [
    "nltk.download('punkt')\n",
    "nltk.download('wordnet')\n",
    "\n",
    "morph = MorphAnalyzer()"
   ]
  },
  {
   "cell_type": "code",
   "execution_count": 6,
   "id": "2667d50f",
   "metadata": {},
   "outputs": [],
   "source": [
    "def preprocess(text):\n",
    "    # 1, 2, 3\n",
    "    tokens = list(filter(str.isalpha, word_tokenize(text.lower(), language='russian')))\n",
    "    # 4\n",
    "    tokens = [parsed[0].normal_form for parsed in map(morph.parse, tokens)]\n",
    "    return tokens"
   ]
  },
  {
   "cell_type": "code",
   "execution_count": 7,
   "id": "14b87440",
   "metadata": {},
   "outputs": [
    {
     "data": {
      "text/plain": [
       "['москвич', 'владимир', 'прийти', 'счёт', 'за', 'вода']"
      ]
     },
     "execution_count": 7,
     "metadata": {},
     "output_type": "execute_result"
    }
   ],
   "source": [
    "# Проверка предобработки\n",
    "preprocess('Москвичу Владимиру пришёл счёт за воду.')"
   ]
  },
  {
   "cell_type": "code",
   "execution_count": 8,
   "id": "74e48a58",
   "metadata": {},
   "outputs": [],
   "source": [
    "train['data'] = train.apply(lambda row: preprocess(row.title), axis=1)"
   ]
  },
  {
   "cell_type": "markdown",
   "id": "7b198e9d",
   "metadata": {},
   "source": [
    "### Разбиение данных\n",
    "\n",
    "Для локального тестирования разобьем обучающую выборку на обучающую и валидационную"
   ]
  },
  {
   "cell_type": "code",
   "execution_count": 10,
   "id": "f5e4d727",
   "metadata": {},
   "outputs": [],
   "source": [
    "train, val = train_test_split(train, test_size=0.1, random_state=42)"
   ]
  },
  {
   "cell_type": "markdown",
   "id": "c81b5fda",
   "metadata": {},
   "source": [
    "# План работы\n",
    "\n",
    "Рассмотрим несколько методов обработки текстовых данных, в порядке их усложнения.\n",
    "\n",
    "1) Сначала получим tf-idf векторы текстов и обучим на них обычный классфикатор\n",
    "\n",
    "2) Затем будем обрабатывать каждый токен отдельно. Для этого векторные представления токенов получим с помощью Word2Vec и рассмотрим несколько подходов к их агрегированнию. На полученных векторных представлениях также обучим классификатор.\n",
    "\n",
    "3) Наконец, воспользуемся сложной моделью. А именно, попробуем дообучить предобученный BERT с головой-классификатором на наших текстах."
   ]
  },
  {
   "cell_type": "markdown",
   "id": "a2ba84a4",
   "metadata": {},
   "source": [
    "# Часть 1: Классификация на tf-idf векторах"
   ]
  },
  {
   "cell_type": "markdown",
   "id": "d07daf25",
   "metadata": {},
   "source": [
    "Для `TfidfVectorizer` нужно сначала склеить токены в предложения:"
   ]
  },
  {
   "cell_type": "code",
   "execution_count": 12,
   "id": "7bd70e57",
   "metadata": {},
   "outputs": [],
   "source": [
    "train_text = train.data.apply(' '.join)\n",
    "val_text = val.data.apply(' '.join)"
   ]
  },
  {
   "cell_type": "markdown",
   "id": "94877d52",
   "metadata": {},
   "source": [
    "Получим tf-idf векторы наших текстов:"
   ]
  },
  {
   "cell_type": "code",
   "execution_count": 13,
   "id": "fa0d65ab",
   "metadata": {},
   "outputs": [],
   "source": [
    "tf_idf = TfidfVectorizer(lowercase=False).fit(train_text)"
   ]
  },
  {
   "cell_type": "markdown",
   "id": "76056c6c",
   "metadata": {},
   "source": [
    "Подготовим данные для обучения:"
   ]
  },
  {
   "cell_type": "code",
   "execution_count": 14,
   "id": "c3e5c54f",
   "metadata": {},
   "outputs": [],
   "source": [
    "X_train = tf_idf.transform(train_text)\n",
    "X_val = tf_idf.transform(val_text)\n",
    "y_train = train.is_fake\n",
    "y_val = val.is_fake"
   ]
  },
  {
   "cell_type": "markdown",
   "id": "389627a3",
   "metadata": {},
   "source": [
    "### Логистическая регрессия\n",
    "\n",
    "Сразу подберем коэффициент регуляризации с помощью валидации по отложенной выборке."
   ]
  },
  {
   "cell_type": "code",
   "execution_count": 23,
   "id": "d4369030",
   "metadata": {},
   "outputs": [
    {
     "name": "stderr",
     "output_type": "stream",
     "text": [
      "Validating: 100%|███████████████████████████████| 10/10 [00:01<00:00,  6.28it/s]\n"
     ]
    }
   ],
   "source": [
    "best_C = 0.\n",
    "best_f1 = 0.\n",
    "\n",
    "C_range = np.logspace(3, 5, num=10)\n",
    "\n",
    "for C in tqdm(C_range, desc='Validating', ncols=80):\n",
    "    model = LogisticRegression(C=C)\n",
    "    with warnings.catch_warnings():\n",
    "        warnings.filterwarnings(\"ignore\", category=ConvergenceWarning)\n",
    "        model.fit(X_train, y_train)\n",
    "    pred = model.predict(X_val)\n",
    "    f1 = f1_score(y_val, pred)\n",
    "    if f1 > best_f1:\n",
    "        best_C = C\n",
    "        best_f1 = f1"
   ]
  },
  {
   "cell_type": "code",
   "execution_count": 27,
   "id": "2b5b5da6",
   "metadata": {},
   "outputs": [
    {
     "data": {
      "text/plain": [
       "59948.42503189409"
      ]
     },
     "execution_count": 27,
     "metadata": {},
     "output_type": "execute_result"
    }
   ],
   "source": [
    "best_C"
   ]
  },
  {
   "cell_type": "code",
   "execution_count": 34,
   "id": "685e5b6a",
   "metadata": {},
   "outputs": [
    {
     "name": "stdout",
     "output_type": "stream",
     "text": [
      "Значения F1 метрики\n",
      "\n",
      "Логистическая регрессия: 0.8407224958949097\n"
     ]
    }
   ],
   "source": [
    "f1_logreg = best_f1\n",
    "print('Значения F1 метрики\\n')\n",
    "print(f'Логистическая регрессия: {f1_logreg}')"
   ]
  },
  {
   "cell_type": "markdown",
   "id": "44497455",
   "metadata": {},
   "source": [
    "### SVM\n",
    "\n",
    "Как и в случае с логистической регрессией, будем подбирать коэффициент регуляризации. Также, попробуем разные виды SVM, чтобы найти лучший: линейный и ядровой (ядра также попробуем разные)"
   ]
  },
  {
   "cell_type": "code",
   "execution_count": 37,
   "id": "eb63f8e9",
   "metadata": {},
   "outputs": [
    {
     "name": "stderr",
     "output_type": "stream",
     "text": [
      "Validating: 100%|███████████████████████████████| 10/10 [01:26<00:00,  8.65s/it]\n"
     ]
    }
   ],
   "source": [
    "best_C = 0.\n",
    "best_kernel = ''\n",
    "best_f1 = 0.\n",
    "\n",
    "C_range = np.logspace(0, 2, num=10)\n",
    "kernels = ['linear', 'poly', 'rbf', 'sigmoid']\n",
    "\n",
    "for C in tqdm(C_range, desc='Validating', ncols=80):\n",
    "    for kernel in kernels:\n",
    "        model = SVC(C=C, kernel=kernel)\n",
    "        with warnings.catch_warnings():\n",
    "            warnings.filterwarnings(\"ignore\", category=ConvergenceWarning)\n",
    "            model.fit(X_train, y_train)\n",
    "        pred = model.predict(X_val)\n",
    "        f1 = f1_score(y_val, pred)\n",
    "        if f1 > best_f1:\n",
    "            best_C = C\n",
    "            best_f1 = f1\n",
    "            best_kernel = kernel"
   ]
  },
  {
   "cell_type": "code",
   "execution_count": 38,
   "id": "03878a17",
   "metadata": {},
   "outputs": [
    {
     "data": {
      "text/plain": [
       "(2.7825594022071245, 'rbf')"
      ]
     },
     "execution_count": 38,
     "metadata": {},
     "output_type": "execute_result"
    }
   ],
   "source": [
    "best_C, best_kernel"
   ]
  },
  {
   "cell_type": "code",
   "execution_count": 40,
   "id": "cc124196",
   "metadata": {},
   "outputs": [
    {
     "name": "stdout",
     "output_type": "stream",
     "text": [
      "Значения F1 метрики\n",
      "\n",
      "Логистическая регрессия: 0.8407224958949097\n",
      "SVM + RBF ядро: 0.8571428571428572\n"
     ]
    }
   ],
   "source": [
    "f1_svm = best_f1\n",
    "print('Значения F1 метрики\\n')\n",
    "print(f'Логистическая регрессия: {f1_logreg}')\n",
    "print(f'SVM + RBF ядро: {f1_svm}')"
   ]
  },
  {
   "cell_type": "markdown",
   "id": "fb09dde4",
   "metadata": {},
   "source": [
    "### Итоги части\n",
    "\n",
    "Лучшее качество на tf-idf векторах получилось достичь с помощью ядрового SVM с RBF ядром."
   ]
  },
  {
   "cell_type": "code",
   "execution_count": 41,
   "id": "70b0906b",
   "metadata": {},
   "outputs": [],
   "source": [
    "f1_1 = f1_svm"
   ]
  },
  {
   "cell_type": "markdown",
   "id": "63cade72",
   "metadata": {},
   "source": [
    "# Часть 2: Word2Vec"
   ]
  },
  {
   "cell_type": "markdown",
   "id": "7a9d09e4",
   "metadata": {},
   "source": [
    "Попробуем обучить лучший классификатор из предыдущей части на векторных представлениях Word2Vec, агрегированных разными способами.\n",
    "\n",
    "Но для начала получим представления W2V."
   ]
  },
  {
   "cell_type": "code",
   "execution_count": 44,
   "id": "23faaa1b",
   "metadata": {},
   "outputs": [],
   "source": [
    "w2v = Word2Vec(train.data.values).wv"
   ]
  },
  {
   "cell_type": "code",
   "execution_count": 47,
   "id": "ac0f3ea6",
   "metadata": {},
   "outputs": [],
   "source": [
    "vocabulary = dict(zip(w2v.index_to_key, w2v.vectors))"
   ]
  },
  {
   "cell_type": "markdown",
   "id": "230382ac",
   "metadata": {},
   "source": [
    "### Усредненные W2V векторы\n",
    "\n",
    "Первый способ агрегации из тех, что мы рассмотрим - усреднить векторные представления W2V для каждого предложения по его токенам."
   ]
  },
  {
   "cell_type": "code",
   "execution_count": 54,
   "id": "841410cd",
   "metadata": {},
   "outputs": [],
   "source": [
    "class mean_vectorizer:\n",
    "    def __init__(self, vocab):\n",
    "        self.vocab = vocab\n",
    "        self.dim = len(next(iter(vocab.values())))\n",
    "\n",
    "    def transform(self, X):\n",
    "        return np.array([\n",
    "            np.mean([self.vocab[tok] for tok in tokens if tok in self.vocab] \n",
    "                    or [np.zeros(self.dim)], axis=0)\n",
    "            for tokens in X\n",
    "        ])"
   ]
  },
  {
   "cell_type": "markdown",
   "id": "9ad78c32",
   "metadata": {},
   "source": [
    "### Среднее взвешенных W2V векторов\n",
    "\n",
    "Просто усредняя векторные представления Word2Vec, мы не учитываем то, что величина вклада каждого слова в смысл предложения может быть разной. Для того, чтобы это учесть, рассмотрим среднее взвешенных W2V представлений токенов одного предложения с весами, равными idf этих токенов."
   ]
  },
  {
   "cell_type": "code",
   "execution_count": 70,
   "id": "841d179d",
   "metadata": {},
   "outputs": [],
   "source": [
    "def calc_idf(documents):\n",
    "    # number of documents\n",
    "    n = len(documents)    \n",
    "    # extract distinct tokens\n",
    "    tokens = set()\n",
    "    tokens = tokens.union(*[set(sent) for sent in documents])\n",
    "    # counting\n",
    "    counts = dict.fromkeys(tokens, 0)\n",
    "    for sent in documents:\n",
    "        sent_distinct = set(sent)\n",
    "        for tok in sent_distinct:\n",
    "            counts[tok] += 1\n",
    "    # idf\n",
    "    idf = dict(zip(\n",
    "        counts.keys(), \n",
    "        np.log(n / np.array(list(counts.values()))).tolist()\n",
    "        ))\n",
    "    return idf"
   ]
  },
  {
   "cell_type": "code",
   "execution_count": 82,
   "id": "f689d36e",
   "metadata": {},
   "outputs": [],
   "source": [
    "class idf_vectorizer:\n",
    "    def __init__(self, vocab):\n",
    "        self.vocab = vocab\n",
    "        self.dim = len(next(iter(vocab.values())))\n",
    "        self.idf = None\n",
    "\n",
    "    def fit(self, X):\n",
    "        self.idf = calc_idf(X)\n",
    "        return self \n",
    "\n",
    "    def transform(self, X):\n",
    "        return np.array([\n",
    "            np.mean([self.vocab[tok] * self.idf[tok]\n",
    "                     for tok in tokens if tok in self.vocab] \n",
    "                    or [np.zeros(self.dim)], axis=0)\n",
    "            for tokens in X\n",
    "        ])"
   ]
  },
  {
   "cell_type": "markdown",
   "id": "826b19c9",
   "metadata": {},
   "source": [
    "### Эксперимент с размерностью эмбеддингов"
   ]
  },
  {
   "cell_type": "code",
   "execution_count": 109,
   "id": "3e090d75",
   "metadata": {},
   "outputs": [],
   "source": [
    "def try_size(sizes):\n",
    "    mean_val_f1 = []\n",
    "    idf_val_f1 = []\n",
    "    best_mean_f1 = 0.\n",
    "    best_mean_size = 0\n",
    "    best_idf_f1 = 0.\n",
    "    best_idf_size = 0\n",
    "    \n",
    "    for size in tqdm(sizes, desc='Trying sizes', ncols=80):\n",
    "        # обучаем w2v\n",
    "        w2v = Word2Vec(train.data.values, vector_size=size).wv\n",
    "        vocabulary = dict(zip(w2v.index_to_key, w2v.vectors))\n",
    "        \n",
    "        # усредненный w2v\n",
    "        mv = mean_vectorizer(vocabulary)\n",
    "        X_train = mv.transform(train.data.values)\n",
    "        X_val = mv.transform(val.data.values)\n",
    "        \n",
    "        model = SVC(kernel='rbf').fit(X_train, y_train)\n",
    "        pred = model.predict(X_val)\n",
    "        mean_val_f1 += [f1_score(y_val, pred)]\n",
    "\n",
    "        if mean_val_f1[-1] > best_mean_f1:\n",
    "            best_mean_f1 = mean_val_f1[-1]\n",
    "            best_mean_size = size\n",
    "        \n",
    "        # взвешенный idf\n",
    "        idf_w2v = idf_vectorizer(vocabulary).fit(train.data.values)\n",
    "        X_train = idf_w2v.transform(train.data.values)\n",
    "        X_val = idf_w2v.transform(val.data.values)\n",
    "        \n",
    "        model = SVC(kernel='rbf').fit(X_train, y_train)\n",
    "        pred = model.predict(X_val)\n",
    "        idf_val_f1 += [f1_score(y_val, pred)]\n",
    "\n",
    "        if idf_val_f1[-1] > best_idf_f1:\n",
    "            best_idf_f1 = idf_val_f1[-1]\n",
    "            best_idf_size = size\n",
    "        \n",
    "    print(f'Best val F1, mean W2V: {best_mean_f1:.4f}, for size: {best_mean_size}')\n",
    "    print(f'Best val F1, W2V + idf: {best_idf_f1:.4f}, for size: {best_idf_size}')\n",
    "    return mean_val_f1, idf_val_f1"
   ]
  },
  {
   "cell_type": "code",
   "execution_count": 110,
   "id": "f6f9f8a4",
   "metadata": {},
   "outputs": [],
   "source": [
    "def plot_metrics(sizes, mean_val_f1, idf_val_f1):\n",
    "    plt.figure(figsize=(12, 4))\n",
    "\n",
    "    plt.plot(sizes, mean_val_f1, label='Усредненные W2V')\n",
    "    plt.plot(sizes, idf_val_f1, label='W2V + idf')\n",
    "    plt.ylabel('F1')\n",
    "    \n",
    "    plt.grid()\n",
    "    plt.xlabel('Размер эмбеддинга')\n",
    "    plt.legend()\n",
    "\n",
    "    plt.tight_layout()"
   ]
  },
  {
   "cell_type": "code",
   "execution_count": 111,
   "id": "54779da4",
   "metadata": {},
   "outputs": [
    {
     "name": "stderr",
     "output_type": "stream",
     "text": [
      "Trying sizes: 100%|█████████████████████████████| 11/11 [02:40<00:00, 14.59s/it]"
     ]
    },
    {
     "name": "stdout",
     "output_type": "stream",
     "text": [
      "Best val F1, mean W2V: 0.6728, for size: 300\n",
      "Best val F1, W2V + idf: 0.6987, for size: 450\n"
     ]
    },
    {
     "name": "stderr",
     "output_type": "stream",
     "text": [
      "\n"
     ]
    }
   ],
   "source": [
    "sizes = range(100, 601, 50)\n",
    "scores = try_size(sizes)"
   ]
  },
  {
   "cell_type": "code",
   "execution_count": 112,
   "id": "f6004aba",
   "metadata": {},
   "outputs": [
    {
     "data": {
      "image/png": "[encoded data removed]",
      "text/plain": [
       "<Figure size 864x288 with 1 Axes>"
      ]
     },
     "metadata": {
      "needs_background": "light"
     },
     "output_type": "display_data"
    }
   ],
   "source": [
    "plot_metrics(sizes, *scores)"
   ]
  },
  {
   "cell_type": "markdown",
   "id": "8274308c",
   "metadata": {},
   "source": [
    "### Подбор коэффициента регуляризации"
   ]
  },
  {
   "cell_type": "markdown",
   "id": "266d67f9",
   "metadata": {},
   "source": [
    "Лучшим оказался подход со средним взвешенных W2V представлений размерности 450."
   ]
  },
  {
   "cell_type": "code",
   "execution_count": 113,
   "id": "ed24e50b",
   "metadata": {},
   "outputs": [],
   "source": [
    "w2v = Word2Vec(train.data.values, vector_size=450).wv\n",
    "idf_w2v = idf_vectorizer(vocabulary).fit(train.data.values)\n",
    "\n",
    "X_train = idf_w2v.transform(train.data.values)\n",
    "X_val = idf_w2v.transform(val.data.values)"
   ]
  },
  {
   "cell_type": "markdown",
   "id": "157f6cfa",
   "metadata": {},
   "source": [
    "Обучим классификатор и подберем коэффициент регуляризации."
   ]
  },
  {
   "cell_type": "code",
   "execution_count": 114,
   "id": "b692ada2",
   "metadata": {},
   "outputs": [
    {
     "name": "stderr",
     "output_type": "stream",
     "text": [
      "Validating: 100%|███████████████████████████████| 10/10 [00:24<00:00,  2.47s/it]\n"
     ]
    }
   ],
   "source": [
    "best_C = 0.\n",
    "best_f1 = 0.\n",
    "\n",
    "C_range = np.logspace(-2, 1, num=10)\n",
    "\n",
    "for C in tqdm(C_range, desc='Validating', ncols=80):\n",
    "    model = SVC(C=C, kernel='rbf')\n",
    "    with warnings.catch_warnings():\n",
    "        warnings.filterwarnings(\"ignore\", category=ConvergenceWarning)\n",
    "        model.fit(X_train, y_train)\n",
    "    pred = model.predict(X_val)\n",
    "    f1 = f1_score(y_val, pred)\n",
    "    if f1 > best_f1:\n",
    "        best_C = C\n",
    "        best_f1 = f1"
   ]
  },
  {
   "cell_type": "code",
   "execution_count": 115,
   "id": "55dfdcdf",
   "metadata": {},
   "outputs": [
    {
     "data": {
      "text/plain": [
       "0.46415888336127775"
      ]
     },
     "execution_count": 115,
     "metadata": {},
     "output_type": "execute_result"
    }
   ],
   "source": [
    "best_C"
   ]
  },
  {
   "cell_type": "code",
   "execution_count": 117,
   "id": "b5f382e8",
   "metadata": {},
   "outputs": [
    {
     "name": "stdout",
     "output_type": "stream",
     "text": [
      "Значения F1 метрики\n",
      "\n",
      "SVM + RBF ядро на tf-idf векторах: 0.8571428571428572\n",
      "SVM + RBF ядро на W2V + idf: 0.6949806949806949\n"
     ]
    }
   ],
   "source": [
    "f1_w2v = best_f1\n",
    "print('Значения F1 метрики\\n')\n",
    "print(f'SVM + RBF ядро на tf-idf векторах: {f1_1}')\n",
    "print(f'SVM + RBF ядро на W2V + idf: {f1_w2v}')"
   ]
  },
  {
   "cell_type": "markdown",
   "id": "0af6cfc0",
   "metadata": {},
   "source": [
    "### Итоги части\n",
    "\n",
    "Качество лучшей модели на агрегированных W2V сильно уступает качеству лучшей модели из предыдущей части."
   ]
  },
  {
   "cell_type": "code",
   "execution_count": 121,
   "id": "17916253",
   "metadata": {},
   "outputs": [],
   "source": [
    "f1_best = f1_1"
   ]
  },
  {
   "cell_type": "code",
   "execution_count": null,
   "id": "c0965703",
   "metadata": {},
   "outputs": [],
   "source": []
  },
  {
   "cell_type": "code",
   "execution_count": null,
   "id": "0359cf00",
   "metadata": {},
   "outputs": [],
   "source": []
  },
  {
   "cell_type": "code",
   "execution_count": null,
   "id": "03277fed",
   "metadata": {},
   "outputs": [],
   "source": []
  },
  {
   "cell_type": "code",
   "execution_count": null,
   "id": "c1537094",
   "metadata": {},
   "outputs": [],
   "source": []
  }
 ],
 "metadata": {
  "kernelspec": {
   "display_name": "Python 3 (ipykernel)",
   "language": "python",
   "name": "python3"
  },
  "language_info": {
   "codemirror_mode": {
    "name": "ipython",
    "version": 3
   },
   "file_extension": ".py",
   "mimetype": "text/x-python",
   "name": "python",
   "nbconvert_exporter": "python",
   "pygments_lexer": "ipython3",
   "version": "3.9.1"
  }
 },
 "nbformat": 4,
 "nbformat_minor": 5
}
