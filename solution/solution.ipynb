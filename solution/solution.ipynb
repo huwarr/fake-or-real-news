{
 "cells": [
  {
   "cell_type": "code",
   "execution_count": null,
   "id": "NPy2hq_D9Pw-",
   "metadata": {
    "id": "NPy2hq_D9Pw-"
   },
   "outputs": [],
   "source": [
    "!pip install -r requirements.txt"
   ]
  },
  {
   "cell_type": "code",
   "execution_count": 2,
   "id": "bc900ea7",
   "metadata": {
    "id": "bc900ea7"
   },
   "outputs": [],
   "source": [
    "# NLP related\n",
    "import nltk\n",
    "from nltk.tokenize import word_tokenize\n",
    "from pymorphy2 import MorphAnalyzer\n",
    "from sklearn.feature_extraction.text import TfidfVectorizer\n",
    "import transformers\n",
    "from transformers import BertForSequenceClassification\n",
    "from transformers import BertTokenizer\n",
    "\n",
    "# Models\n",
    "from sklearn.linear_model import LogisticRegression\n",
    "from sklearn.svm import SVC\n",
    "import torch\n",
    "from torch.utils.data import DataLoader, Dataset\n",
    "\n",
    "# Others\n",
    "import pandas as pd\n",
    "import numpy as np\n",
    "from tqdm import tqdm\n",
    "import warnings\n",
    "from sklearn.exceptions import ConvergenceWarning\n",
    "from sklearn.model_selection import train_test_split\n",
    "from sklearn.metrics import f1_score\n",
    "import matplotlib.pyplot as plt\n",
    "%config InlineBackend.figure_format = 'retina'\n",
    "from IPython.display import clear_output"
   ]
  },
  {
   "cell_type": "markdown",
   "id": "b200ede4",
   "metadata": {
    "id": "b200ede4"
   },
   "source": [
    "# Работа с данными"
   ]
  },
  {
   "cell_type": "markdown",
   "id": "15af6b5a",
   "metadata": {
    "id": "15af6b5a"
   },
   "source": [
    "### Загрузка данных"
   ]
  },
  {
   "cell_type": "code",
   "execution_count": 3,
   "id": "b47dceea",
   "metadata": {
    "id": "b47dceea"
   },
   "outputs": [],
   "source": [
    "train = pd.read_csv('dataset/train.tsv', sep='\\t')\n",
    "test = pd.read_csv('dataset/test.tsv', sep='\\t')"
   ]
  },
  {
   "cell_type": "code",
   "execution_count": 4,
   "id": "a8d9cec5",
   "metadata": {
    "colab": {
     "base_uri": "https://localhost:8080/",
     "height": 143
    },
    "id": "a8d9cec5",
    "outputId": "28258b6c-a45f-4878-a7d7-559319915dfa"
   },
   "outputs": [
    {
     "data": {
      "text/html": [
       "\n",
       "  <div id=\"df-25f2f739-5dfb-43f6-ab3b-c9fbb38f5069\">\n",
       "    <div class=\"colab-df-container\">\n",
       "      <div>\n",
       "<style scoped>\n",
       "    .dataframe tbody tr th:only-of-type {\n",
       "        vertical-align: middle;\n",
       "    }\n",
       "\n",
       "    .dataframe tbody tr th {\n",
       "        vertical-align: top;\n",
       "    }\n",
       "\n",
       "    .dataframe thead th {\n",
       "        text-align: right;\n",
       "    }\n",
       "</style>\n",
       "<table border=\"1\" class=\"dataframe\">\n",
       "  <thead>\n",
       "    <tr style=\"text-align: right;\">\n",
       "      <th></th>\n",
       "      <th>title</th>\n",
       "      <th>is_fake</th>\n",
       "    </tr>\n",
       "  </thead>\n",
       "  <tbody>\n",
       "    <tr>\n",
       "      <th>0</th>\n",
       "      <td>Москвичу Владимиру Клутину пришёл счёт за вмеш...</td>\n",
       "      <td>1</td>\n",
       "    </tr>\n",
       "    <tr>\n",
       "      <th>1</th>\n",
       "      <td>Агент Кокорина назвал езду по встречке житейск...</td>\n",
       "      <td>0</td>\n",
       "    </tr>\n",
       "    <tr>\n",
       "      <th>2</th>\n",
       "      <td>Госдума рассмотрит возможность введения секрет...</td>\n",
       "      <td>1</td>\n",
       "    </tr>\n",
       "  </tbody>\n",
       "</table>\n",
       "</div>\n",
       "      <button class=\"colab-df-convert\" onclick=\"convertToInteractive('df-25f2f739-5dfb-43f6-ab3b-c9fbb38f5069')\"\n",
       "              title=\"Convert this dataframe to an interactive table.\"\n",
       "              style=\"display:none;\">\n",
       "        \n",
       "  <svg xmlns=\"http://www.w3.org/2000/svg\" height=\"24px\"viewBox=\"0 0 24 24\"\n",
       "       width=\"24px\">\n",
       "    <path d=\"M0 0h24v24H0V0z\" fill=\"none\"/>\n",
       "    <path d=\"M18.56 5.44l.94 2.06.94-2.06 2.06-.94-2.06-.94-.94-2.06-.94 2.06-2.06.94zm-11 1L8.5 8.5l.94-2.06 2.06-.94-2.06-.94L8.5 2.5l-.94 2.06-2.06.94zm10 10l.94 2.06.94-2.06 2.06-.94-2.06-.94-.94-2.06-.94 2.06-2.06.94z\"/><path d=\"M17.41 7.96l-1.37-1.37c-.4-.4-.92-.59-1.43-.59-.52 0-1.04.2-1.43.59L10.3 9.45l-7.72 7.72c-.78.78-.78 2.05 0 2.83L4 21.41c.39.39.9.59 1.41.59.51 0 1.02-.2 1.41-.59l7.78-7.78 2.81-2.81c.8-.78.8-2.07 0-2.86zM5.41 20L4 18.59l7.72-7.72 1.47 1.35L5.41 20z\"/>\n",
       "  </svg>\n",
       "      </button>\n",
       "      \n",
       "  <style>\n",
       "    .colab-df-container {\n",
       "      display:flex;\n",
       "      flex-wrap:wrap;\n",
       "      gap: 12px;\n",
       "    }\n",
       "\n",
       "    .colab-df-convert {\n",
       "      background-color: #E8F0FE;\n",
       "      border: none;\n",
       "      border-radius: 50%;\n",
       "      cursor: pointer;\n",
       "      display: none;\n",
       "      fill: #1967D2;\n",
       "      height: 32px;\n",
       "      padding: 0 0 0 0;\n",
       "      width: 32px;\n",
       "    }\n",
       "\n",
       "    .colab-df-convert:hover {\n",
       "      background-color: #E2EBFA;\n",
       "      box-shadow: 0px 1px 2px rgba(60, 64, 67, 0.3), 0px 1px 3px 1px rgba(60, 64, 67, 0.15);\n",
       "      fill: #174EA6;\n",
       "    }\n",
       "\n",
       "    [theme=dark] .colab-df-convert {\n",
       "      background-color: #3B4455;\n",
       "      fill: #D2E3FC;\n",
       "    }\n",
       "\n",
       "    [theme=dark] .colab-df-convert:hover {\n",
       "      background-color: #434B5C;\n",
       "      box-shadow: 0px 1px 3px 1px rgba(0, 0, 0, 0.15);\n",
       "      filter: drop-shadow(0px 1px 2px rgba(0, 0, 0, 0.3));\n",
       "      fill: #FFFFFF;\n",
       "    }\n",
       "  </style>\n",
       "\n",
       "      <script>\n",
       "        const buttonEl =\n",
       "          document.querySelector('#df-25f2f739-5dfb-43f6-ab3b-c9fbb38f5069 button.colab-df-convert');\n",
       "        buttonEl.style.display =\n",
       "          google.colab.kernel.accessAllowed ? 'block' : 'none';\n",
       "\n",
       "        async function convertToInteractive(key) {\n",
       "          const element = document.querySelector('#df-25f2f739-5dfb-43f6-ab3b-c9fbb38f5069');\n",
       "          const dataTable =\n",
       "            await google.colab.kernel.invokeFunction('convertToInteractive',\n",
       "                                                     [key], {});\n",
       "          if (!dataTable) return;\n",
       "\n",
       "          const docLinkHtml = 'Like what you see? Visit the ' +\n",
       "            '<a target=\"_blank\" href=https://colab.research.google.com/notebooks/data_table.ipynb>data table notebook</a>'\n",
       "            + ' to learn more about interactive tables.';\n",
       "          element.innerHTML = '';\n",
       "          dataTable['output_type'] = 'display_data';\n",
       "          await google.colab.output.renderOutput(dataTable, element);\n",
       "          const docLink = document.createElement('div');\n",
       "          docLink.innerHTML = docLinkHtml;\n",
       "          element.appendChild(docLink);\n",
       "        }\n",
       "      </script>\n",
       "    </div>\n",
       "  </div>\n",
       "  "
      ],
      "text/plain": [
       "                                               title  is_fake\n",
       "0  Москвичу Владимиру Клутину пришёл счёт за вмеш...        1\n",
       "1  Агент Кокорина назвал езду по встречке житейск...        0\n",
       "2  Госдума рассмотрит возможность введения секрет...        1"
      ]
     },
     "execution_count": 4,
     "metadata": {},
     "output_type": "execute_result"
    }
   ],
   "source": [
    "train.head(3)"
   ]
  },
  {
   "cell_type": "markdown",
   "id": "b9a492a8",
   "metadata": {
    "id": "b9a492a8"
   },
   "source": [
    "### EDA"
   ]
  },
  {
   "cell_type": "markdown",
   "id": "50c95bd7",
   "metadata": {
    "id": "50c95bd7"
   },
   "source": [
    "Предобработка текстовых данных сильно влияет на качество итогового решения.\n",
    "\n",
    "Преобразования, которые могут улучшить качество: \n",
    "\n",
    "1) Привести слова к нижнему регистру\n",
    "\n",
    "2) Удалить знаки препинания и числа\n",
    "\n",
    "3) Токенизировать текст\n",
    "\n",
    "4) Лемматизация (приведение слова к нормальной форме)"
   ]
  },
  {
   "cell_type": "code",
   "execution_count": null,
   "id": "5cd7e971",
   "metadata": {
    "colab": {
     "base_uri": "https://localhost:8080/"
    },
    "id": "5cd7e971",
    "outputId": "3ef8486f-7a9b-4d43-f60e-f5880cb9ed79"
   },
   "outputs": [],
   "source": [
    "nltk.download('punkt')\n",
    "nltk.download('wordnet')\n",
    "\n",
    "morph = MorphAnalyzer()"
   ]
  },
  {
   "cell_type": "code",
   "execution_count": 6,
   "id": "2667d50f",
   "metadata": {
    "id": "2667d50f"
   },
   "outputs": [],
   "source": [
    "def preprocess(text):\n",
    "    # 1, 2, 3\n",
    "    tokens = list(filter(str.isalpha, word_tokenize(text.lower(), language='russian')))\n",
    "    # 4\n",
    "    tokens = [parsed[0].normal_form for parsed in map(morph.parse, tokens)]\n",
    "    return tokens"
   ]
  },
  {
   "cell_type": "code",
   "execution_count": 7,
   "id": "14b87440",
   "metadata": {
    "colab": {
     "base_uri": "https://localhost:8080/"
    },
    "id": "14b87440",
    "outputId": "2c81050f-3b4e-4b5b-cb93-6f7807bb23ac"
   },
   "outputs": [
    {
     "data": {
      "text/plain": [
       "['москвич', 'владимир', 'прийти', 'счёт', 'за', 'вода']"
      ]
     },
     "execution_count": 7,
     "metadata": {},
     "output_type": "execute_result"
    }
   ],
   "source": [
    "# Проверка предобработки\n",
    "preprocess('Москвичу Владимиру пришёл счёт за воду.')"
   ]
  },
  {
   "cell_type": "code",
   "execution_count": 8,
   "id": "74e48a58",
   "metadata": {
    "id": "74e48a58"
   },
   "outputs": [],
   "source": [
    "train['data'] = train.apply(lambda row: preprocess(row.title), axis=1)"
   ]
  },
  {
   "cell_type": "markdown",
   "id": "7b198e9d",
   "metadata": {
    "id": "7b198e9d"
   },
   "source": [
    "### Разбиение данных\n",
    "\n",
    "Для локального тестирования разобьем обучающую выборку на обучающую и валидационную"
   ]
  },
  {
   "cell_type": "code",
   "execution_count": 9,
   "id": "f5e4d727",
   "metadata": {
    "id": "f5e4d727"
   },
   "outputs": [],
   "source": [
    "train, val = train_test_split(train, test_size=0.1, random_state=42)"
   ]
  },
  {
   "cell_type": "markdown",
   "id": "c81b5fda",
   "metadata": {
    "id": "c81b5fda"
   },
   "source": [
    "# План работы\n",
    "\n",
    "Рассмотрим несколько методов обработки текстовых данных=.\n",
    "\n",
    "1) Сначала получим tf-idf векторы текстов и обучим на них \"обычный\" классфикатор. Таким образом, мы получим представление о задаче и своего рода \"бейзлайн\" для более сложных архитектур.\n",
    "\n",
    "2) Затем, воспользуемся сложной моделью. А именно, попробуем дообучить предобученный BERT с головой-классификатором на наших текстах."
   ]
  },
  {
   "cell_type": "markdown",
   "id": "a2ba84a4",
   "metadata": {
    "id": "a2ba84a4"
   },
   "source": [
    "# Часть 1: Классификация на tf-idf векторах"
   ]
  },
  {
   "cell_type": "markdown",
   "id": "d07daf25",
   "metadata": {
    "id": "d07daf25"
   },
   "source": [
    "Для `TfidfVectorizer` нужно сначала склеить токены в предложения:"
   ]
  },
  {
   "cell_type": "code",
   "execution_count": 10,
   "id": "7bd70e57",
   "metadata": {
    "id": "7bd70e57"
   },
   "outputs": [],
   "source": [
    "train_text = train.data.apply(' '.join)\n",
    "val_text = val.data.apply(' '.join)"
   ]
  },
  {
   "cell_type": "markdown",
   "id": "94877d52",
   "metadata": {
    "id": "94877d52"
   },
   "source": [
    "Получим tf-idf векторы наших текстов:"
   ]
  },
  {
   "cell_type": "code",
   "execution_count": 11,
   "id": "fa0d65ab",
   "metadata": {
    "id": "fa0d65ab"
   },
   "outputs": [],
   "source": [
    "tf_idf = TfidfVectorizer(lowercase=False).fit(train_text)"
   ]
  },
  {
   "cell_type": "markdown",
   "id": "76056c6c",
   "metadata": {
    "id": "76056c6c"
   },
   "source": [
    "Подготовим данные для обучения:"
   ]
  },
  {
   "cell_type": "code",
   "execution_count": 12,
   "id": "c3e5c54f",
   "metadata": {
    "id": "c3e5c54f"
   },
   "outputs": [],
   "source": [
    "X_train = tf_idf.transform(train_text)\n",
    "X_val = tf_idf.transform(val_text)\n",
    "y_train = train.is_fake\n",
    "y_val = val.is_fake"
   ]
  },
  {
   "cell_type": "markdown",
   "id": "389627a3",
   "metadata": {
    "id": "389627a3"
   },
   "source": [
    "### Логистическая регрессия\n",
    "\n",
    "Сразу подберем коэффициент регуляризации с помощью валидации по отложенной выборке."
   ]
  },
  {
   "cell_type": "code",
   "execution_count": 13,
   "id": "d4369030",
   "metadata": {
    "colab": {
     "base_uri": "https://localhost:8080/"
    },
    "id": "d4369030",
    "outputId": "8b5d3296-939d-4bee-885a-76d3b36834bd"
   },
   "outputs": [
    {
     "name": "stderr",
     "output_type": "stream",
     "text": [
      "Validating: 100%|███████████████████████████████| 10/10 [00:02<00:00,  4.40it/s]\n"
     ]
    }
   ],
   "source": [
    "best_C = 0.\n",
    "best_f1 = 0.\n",
    "\n",
    "C_range = np.logspace(3, 5, num=10)\n",
    "\n",
    "for C in tqdm(C_range, desc='Validating', ncols=80):\n",
    "    model = LogisticRegression(C=C)\n",
    "    with warnings.catch_warnings():\n",
    "        warnings.filterwarnings(\"ignore\", category=ConvergenceWarning)\n",
    "        model.fit(X_train, y_train)\n",
    "    pred = model.predict(X_val)\n",
    "    f1 = f1_score(y_val, pred)\n",
    "    if f1 > best_f1:\n",
    "        best_C = C\n",
    "        best_f1 = f1"
   ]
  },
  {
   "cell_type": "code",
   "execution_count": 14,
   "id": "2b5b5da6",
   "metadata": {
    "colab": {
     "base_uri": "https://localhost:8080/"
    },
    "id": "2b5b5da6",
    "outputId": "a3177cee-bd12-48e7-dd6c-4fd93f65ad05"
   },
   "outputs": [
    {
     "data": {
      "text/plain": [
       "2782.559402207126"
      ]
     },
     "execution_count": 14,
     "metadata": {},
     "output_type": "execute_result"
    }
   ],
   "source": [
    "best_C"
   ]
  },
  {
   "cell_type": "code",
   "execution_count": 15,
   "id": "685e5b6a",
   "metadata": {
    "colab": {
     "base_uri": "https://localhost:8080/"
    },
    "id": "685e5b6a",
    "outputId": "cf7b8721-aa8e-4732-df31-961bb82af31d"
   },
   "outputs": [
    {
     "name": "stdout",
     "output_type": "stream",
     "text": [
      "Значения F1 метрики\n",
      "\n",
      "Логистическая регрессия: 0.8407224958949097\n"
     ]
    }
   ],
   "source": [
    "f1_logreg = best_f1\n",
    "print('Значения F1 метрики\\n')\n",
    "print(f'Логистическая регрессия: {f1_logreg}')"
   ]
  },
  {
   "cell_type": "markdown",
   "id": "44497455",
   "metadata": {
    "id": "44497455"
   },
   "source": [
    "### SVM\n",
    "\n",
    "Как и в случае с логистической регрессией, будем подбирать коэффициент регуляризации. Также, попробуем разные виды SVM, чтобы найти лучший: линейный и ядровой (ядра также попробуем разные)"
   ]
  },
  {
   "cell_type": "code",
   "execution_count": 16,
   "id": "eb63f8e9",
   "metadata": {
    "colab": {
     "base_uri": "https://localhost:8080/"
    },
    "id": "eb63f8e9",
    "outputId": "f19be805-6e02-4277-924c-0c731ba75d24"
   },
   "outputs": [
    {
     "name": "stderr",
     "output_type": "stream",
     "text": [
      "Validating: 100%|███████████████████████████████| 10/10 [02:09<00:00, 12.92s/it]\n"
     ]
    }
   ],
   "source": [
    "best_C = 0.\n",
    "best_kernel = ''\n",
    "best_f1 = 0.\n",
    "\n",
    "C_range = np.logspace(0, 2, num=10)\n",
    "kernels = ['linear', 'poly', 'rbf', 'sigmoid']\n",
    "\n",
    "for C in tqdm(C_range, desc='Validating', ncols=80):\n",
    "    for kernel in kernels:\n",
    "        model = SVC(C=C, kernel=kernel)\n",
    "        with warnings.catch_warnings():\n",
    "            warnings.filterwarnings(\"ignore\", category=ConvergenceWarning)\n",
    "            model.fit(X_train, y_train)\n",
    "        pred = model.predict(X_val)\n",
    "        f1 = f1_score(y_val, pred)\n",
    "        if f1 > best_f1:\n",
    "            best_C = C\n",
    "            best_f1 = f1\n",
    "            best_kernel = kernel"
   ]
  },
  {
   "cell_type": "code",
   "execution_count": 17,
   "id": "03878a17",
   "metadata": {
    "colab": {
     "base_uri": "https://localhost:8080/"
    },
    "id": "03878a17",
    "outputId": "bdf48ba6-0576-44f8-d63f-c6c81b6b1939"
   },
   "outputs": [
    {
     "data": {
      "text/plain": [
       "(1.0, 'rbf')"
      ]
     },
     "execution_count": 17,
     "metadata": {},
     "output_type": "execute_result"
    }
   ],
   "source": [
    "best_C, best_kernel"
   ]
  },
  {
   "cell_type": "code",
   "execution_count": 18,
   "id": "cc124196",
   "metadata": {
    "colab": {
     "base_uri": "https://localhost:8080/"
    },
    "id": "cc124196",
    "outputId": "da5076f9-7d59-44e0-e299-625a14c6cf89"
   },
   "outputs": [
    {
     "name": "stdout",
     "output_type": "stream",
     "text": [
      "Значения F1 метрики\n",
      "\n",
      "Логистическая регрессия: 0.8407224958949097\n",
      "SVM + RBF ядро: 0.858569051580699\n"
     ]
    }
   ],
   "source": [
    "f1_svm = best_f1\n",
    "print('Значения F1 метрики\\n')\n",
    "print(f'Логистическая регрессия: {f1_logreg}')\n",
    "print(f'SVM + RBF ядро: {f1_svm}')"
   ]
  },
  {
   "cell_type": "markdown",
   "id": "fb09dde4",
   "metadata": {
    "id": "fb09dde4"
   },
   "source": [
    "### Итоги части 1\n",
    "\n",
    "Лучшее качество на tf-idf векторах получилось достичь с помощью ядрового SVM с RBF ядром.\n",
    "\n",
    "Опираясь на полученные значения метрик, при работе с BERT-ом будем ориентироваться на `F1 > 0.86`."
   ]
  },
  {
   "cell_type": "markdown",
   "id": "JL3Hui6a-jQf",
   "metadata": {
    "id": "JL3Hui6a-jQf"
   },
   "source": [
    "# Часть 2: BERT"
   ]
  },
  {
   "cell_type": "markdown",
   "id": "ezT7PrszUs4N",
   "metadata": {
    "id": "ezT7PrszUs4N"
   },
   "source": [
    "### Подготовка"
   ]
  },
  {
   "cell_type": "markdown",
   "id": "nY_4TyuaUkFj",
   "metadata": {
    "id": "nY_4TyuaUkFj"
   },
   "source": [
    "Зафиксируем `seed` для воспроизводимости результатов."
   ]
  },
  {
   "cell_type": "code",
   "execution_count": 20,
   "id": "8EIvG0BY-hf_",
   "metadata": {
    "id": "8EIvG0BY-hf_"
   },
   "outputs": [],
   "source": [
    "def set_random_seed(seed):\n",
    "    torch.backends.cudnn.deterministic = True\n",
    "    torch.manual_seed(seed)\n",
    "    torch.cuda.manual_seed(seed)\n",
    "    np.random.seed(seed)\n",
    "\n",
    "set_random_seed(101)"
   ]
  },
  {
   "cell_type": "markdown",
   "id": "8Y-fJNeBUrEa",
   "metadata": {
    "id": "8Y-fJNeBUrEa"
   },
   "source": [
    "Определим функцию для отрисовки графиков в процессе обучения."
   ]
  },
  {
   "cell_type": "code",
   "execution_count": 21,
   "id": "blHUFd7C-hiv",
   "metadata": {
    "id": "blHUFd7C-hiv"
   },
   "outputs": [],
   "source": [
    "def plot_scores(train_losses, eval_losses, train_metrics, eval_metrics):\n",
    "    clear_output()\n",
    "    fig, axs = plt.subplots(ncols=2, nrows=1, figsize=(12, 4))\n",
    "    # Losses\n",
    "    axs[0].plot(range(1, len(train_losses) + 1), train_losses, label='train')\n",
    "    axs[0].plot(range(1, len(eval_losses) + 1), eval_losses, label='eval')\n",
    "    axs[0].set_ylabel('Ошибка')\n",
    "    axs[0].set_xlabel('Эпоха')\n",
    "    axs[0].set_title('Ошибка во время обучения')\n",
    "    axs[0].legend()\n",
    "    # Metrics\n",
    "    axs[1].plot(range(1, len(train_metrics) + 1), train_metrics, label='train')\n",
    "    axs[1].plot(range(1, len(eval_metrics) + 1), eval_metrics, label='eval')\n",
    "    axs[1].set_ylabel('F1')\n",
    "    axs[1].set_xlabel('Эпоха')\n",
    "    axs[1].set_title('Значение F1 во время обучения')\n",
    "    axs[1].legend()\n",
    "\n",
    "    axs[0].grid()\n",
    "    axs[1].grid()\n",
    "    plt.show()"
   ]
  },
  {
   "cell_type": "markdown",
   "id": "M_4Sb2YbU8ok",
   "metadata": {
    "id": "M_4Sb2YbU8ok"
   },
   "source": [
    "Создадим датасеты из наших данных и положим их в DataLoader."
   ]
  },
  {
   "cell_type": "code",
   "execution_count": 22,
   "id": "-C9fuZT6BijG",
   "metadata": {
    "id": "-C9fuZT6BijG"
   },
   "outputs": [],
   "source": [
    "class NewsDataset(Dataset):\n",
    "    def __init__(self, data, target=None):\n",
    "        self.X = data\n",
    "        if target is None:\n",
    "            self.y = None\n",
    "        else:\n",
    "            self.y = torch.tensor(target, dtype=torch.long)\n",
    "        self.len = len(self.X)\n",
    "\n",
    "    def __len__(self):\n",
    "        return self.len\n",
    "    \n",
    "    def __getitem__(self, idx):\n",
    "        if self.y is None:\n",
    "            return self.X[idx]\n",
    "        return self.X[idx], self.y[idx]"
   ]
  },
  {
   "cell_type": "code",
   "execution_count": 23,
   "id": "3WxF3So7B5El",
   "metadata": {
    "id": "3WxF3So7B5El"
   },
   "outputs": [],
   "source": [
    "BATCH_SIZE = 8\n",
    "\n",
    "train_dataset = NewsDataset(train.title.values.tolist(), target=y_train.values)\n",
    "eval_dataset = NewsDataset(val.title.values.tolist(), target=y_val.values)\n",
    "\n",
    "train_dataloader = DataLoader(train_dataset, batch_size=BATCH_SIZE, shuffle=True)\n",
    "eval_dataloader = DataLoader(eval_dataset, batch_size=BATCH_SIZE, shuffle=False)"
   ]
  },
  {
   "cell_type": "markdown",
   "id": "gzM2h7nMVGbJ",
   "metadata": {
    "id": "gzM2h7nMVGbJ"
   },
   "source": [
    "### Модель и прочие радости"
   ]
  },
  {
   "cell_type": "markdown",
   "id": "aIKTzY69VKTU",
   "metadata": {
    "id": "aIKTzY69VKTU"
   },
   "source": [
    "На сайте `huggingface` есть великое множество моделей, предобученных на самые разные задачи. В том числе, на задачи, связанные с русским языком.\n",
    "\n",
    "---\n",
    "\n",
    "Были рассмотрены следующие предобученные модели.\n",
    "\n",
    "- `sberbank-ai/ruBert-base`: русский BERT-base\n",
    "\n",
    "best eval F1 = 0.9505\n",
    "\n",
    "- `DeepPavlov/rubert-base-cased`: отличается от предыдущей модели задачей предобучения\n",
    "\n",
    "best eval F1 = 0.9372\n",
    "\n",
    "- `blinoff/roberta-base-russian-v0`: русская RoBERTa-base\n",
    "\n",
    "best eval F1 = 0.8799\n",
    "\n",
    "- `SkolkovoInstitute/rubert-base-corruption-detector`: модель, обученная отличать написанный человеком текст от намеренно испорченного текста\n",
    "\n",
    "best eval F1 = 0.9264"
   ]
  },
  {
   "cell_type": "markdown",
   "id": "0741e17b",
   "metadata": {},
   "source": [
    "---\n",
    "\n",
    "Среди рассмотренных моделей `sberbank-ai/ruBert-base` показала наилучшее качество на отложенной выборке. Ниже приведен код ее дообучения."
   ]
  },
  {
   "cell_type": "code",
   "execution_count": null,
   "id": "4gJsRMplB5IM",
   "metadata": {
    "colab": {
     "base_uri": "https://localhost:8080/"
    },
    "id": "4gJsRMplB5IM",
    "outputId": "8b29d1f6-9105-4934-f382-60c2738987a1"
   },
   "outputs": [],
   "source": [
    "# Определяем девайс\n",
    "device = torch.device('cuda:0' if torch.cuda.is_available() else 'cpu')\n",
    "torch.cuda.empty_cache()\n",
    "\n",
    "# Загружаем предобученную модель\n",
    "model = BertForSequenceClassification.from_pretrained('sberbank-ai/ruBert-base', num_labels=2)\n",
    "model = model.to(device)\n",
    "# Загружаем токенайзер для этой модели\n",
    "tokenizer = BertTokenizer.from_pretrained('sberbank-ai/ruBert-base', do_lower_case=False)\n",
    "\n",
    "# Оптимизатор\n",
    "optimizer = transformers.AdamW(model.parameters(), lr=1e-5)"
   ]
  },
  {
   "cell_type": "markdown",
   "id": "m-uxuk6PVvLQ",
   "metadata": {
    "id": "m-uxuk6PVvLQ"
   },
   "source": [
    "Трансформеры принимают на вход последовательность токенов фиксированной длины. Для этого мы будем добавлять нулевой паддинг к слишком кортким предложениям, и обрезать слишком длинные - все это контролируется в токенайзере.\n",
    "\n",
    "Нам остается лишь зафиксировать необходимую длину."
   ]
  },
  {
   "cell_type": "code",
   "execution_count": 25,
   "id": "nYO3HLpUB5Lj",
   "metadata": {
    "id": "nYO3HLpUB5Lj"
   },
   "outputs": [],
   "source": [
    "MAX_LEN = 512"
   ]
  },
  {
   "cell_type": "markdown",
   "id": "mUo47Q9kWJOe",
   "metadata": {
    "id": "mUo47Q9kWJOe"
   },
   "source": [
    "Последний штрих, избавимся от предупреждений, которые будут сыпаться от токенайзера во время обучения."
   ]
  },
  {
   "cell_type": "code",
   "execution_count": 26,
   "id": "98hA-YIOB5Qf",
   "metadata": {
    "id": "98hA-YIOB5Qf"
   },
   "outputs": [],
   "source": [
    "transformers.utils.logging.set_verbosity_error()"
   ]
  },
  {
   "cell_type": "markdown",
   "id": "zIBrzYAOWSrG",
   "metadata": {
    "id": "zIBrzYAOWSrG"
   },
   "source": [
    "### Обучение\n",
    "\n",
    "Дообучать BERT рекомендуется с использованием расписания `lr` с `warmup` и небольшим пороговым значением `lr`. \n",
    "\n",
    "Мы уже взяли `lr=1e-5`, в расписании для `warmup`-а возьмем 0.06 шагов от общего числа."
   ]
  },
  {
   "cell_type": "code",
   "execution_count": 27,
   "id": "94hiqjU4D0Lx",
   "metadata": {
    "colab": {
     "base_uri": "https://localhost:8080/",
     "height": 311
    },
    "id": "94hiqjU4D0Lx",
    "outputId": "5e8ccfbf-0d75-4a4a-9842-1eddc0fef1bc"
   },
   "outputs": [
    {
     "data": {
      "image/png": "[encoded data removed]",
      "text/plain": [
       "<Figure size 864x288 with 2 Axes>"
      ]
     },
     "metadata": {
      "image/png": {
       "height": 277,
       "width": 726
      },
      "needs_background": "light"
     },
     "output_type": "display_data"
    },
    {
     "name": "stdout",
     "output_type": "stream",
     "text": [
      "Best eval F1: 0.9505, on epoch: 3\n"
     ]
    }
   ],
   "source": [
    "NUM_EPOCHS = 5\n",
    "\n",
    "# Расписание lr\n",
    "num_training_steps = NUM_EPOCHS * len(train_dataloader)\n",
    "lr_scheduler = transformers.get_linear_schedule_with_warmup(\n",
    "    optimizer=optimizer,\n",
    "    num_warmup_steps=0.06 * num_training_steps,\n",
    "    num_training_steps=num_training_steps\n",
    ")\n",
    "\n",
    "# Хранилище важной информации о ходе обучения\n",
    "train_losses, train_metrics = [], []\n",
    "eval_losses, eval_metrics = [], []\n",
    "best_eval_f1 = 0.\n",
    "best_eval_epoch = 0\n",
    "\n",
    "for n in range(NUM_EPOCHS):\n",
    "    '''\n",
    "    TRAINING\n",
    "    '''\n",
    "    model.train()\n",
    "    train_loss = 0.\n",
    "    train_f1 = 0.\n",
    "    for titles, targets in tqdm(train_dataloader, desc=f'Training {n + 1}/{NUM_EPOCHS}', ncols=80):\n",
    "        tokenized_batch = tokenizer(\n",
    "            list(titles),\n",
    "            padding='max_length', \n",
    "            max_length=MAX_LEN, \n",
    "            truncation=True,\n",
    "            return_tensors='pt')\n",
    "        tokenized_batch = tokenized_batch.to(device)\n",
    "        targets = targets.to(device)\n",
    "        outputs = model(**tokenized_batch, labels=targets)\n",
    "        preds = outputs.logits\n",
    "        loss = outputs.loss\n",
    "\n",
    "        loss.backward()\n",
    "        optimizer.step()\n",
    "        lr_scheduler.step()\n",
    "        optimizer.zero_grad()\n",
    "\n",
    "        train_loss += loss.item() * len(titles)\n",
    "        true_labels = targets.cpu().detach().numpy()\n",
    "        pred_labels = np.argmax(preds.cpu().detach().numpy(), axis=1)\n",
    "        train_f1 += f1_score(true_labels, pred_labels, zero_division=1) * len(titles)\n",
    "\n",
    "    train_losses += [train_loss / len(train_dataset)]\n",
    "    train_metrics += [train_f1 / len(train_dataset)]\n",
    "\n",
    "    '''\n",
    "    VALIDATING\n",
    "    '''\n",
    "    model.eval()\n",
    "    eval_loss = 0.\n",
    "    eval_f1 = 0.\n",
    "    for titles, targets in tqdm(eval_dataloader, desc=f'Evaluating {n + 1}/{NUM_EPOCHS}', ncols=80):\n",
    "        tokenized_batch = tokenizer(\n",
    "            list(titles),\n",
    "            padding='max_length', \n",
    "            max_length=MAX_LEN, \n",
    "            truncation=True,\n",
    "            return_tensors='pt')\n",
    "        tokenized_batch = tokenized_batch.to(device)\n",
    "        targets = targets.to(device)        \n",
    "        with torch.no_grad():\n",
    "            outputs = model(**tokenized_batch, labels=targets)\n",
    "            preds = outputs.logits\n",
    "            loss = outputs.loss\n",
    "        \n",
    "        eval_loss += loss.item() * len(titles)\n",
    "        true_labels = targets.cpu().detach().numpy()\n",
    "        pred_labels = np.argmax(preds.cpu().detach().numpy(), axis=1)\n",
    "        eval_f1 += f1_score(true_labels, pred_labels, zero_division=1) * len(titles)  \n",
    "    \n",
    "    eval_losses += [eval_loss / len(eval_dataset)]\n",
    "    eval_metrics += [eval_f1 / len(eval_dataset)]\n",
    "\n",
    "    # Обновим лучшее значение метрики\n",
    "    if best_eval_f1 < eval_metrics[-1]:\n",
    "        best_eval_f1 = eval_metrics[-1]\n",
    "        best_eval_epoch = n\n",
    "        # Сохраняем модель\n",
    "        network_state = dict(\n",
    "            [(k, v.cpu()) for k, v in model.state_dict().items()]\n",
    "        )\n",
    "        state_path = './checkpoint_best.pt'\n",
    "        torch.save(network_state, state_path)\n",
    "\n",
    "    # Графики ошибки и значений метрики во время обучения\n",
    "    plot_scores(train_losses, eval_losses, train_metrics, eval_metrics)\n",
    "    \n",
    "    # Напомним себе, каким было лучшее значение метрики на отложенной выборке\n",
    "    print(f'Best eval F1: {best_eval_f1:.4f}, on epoch: {best_eval_epoch + 1}')"
   ]
  },
  {
   "cell_type": "markdown",
   "id": "vIRY8xrrxZnu",
   "metadata": {
    "id": "vIRY8xrrxZnu"
   },
   "source": [
    "### Формируем предсказания"
   ]
  },
  {
   "cell_type": "markdown",
   "id": "yFWsbsfgxdZV",
   "metadata": {
    "id": "yFWsbsfgxdZV"
   },
   "source": [
    "Загрузим лучшую по значению метрики на отложенной выборке модель."
   ]
  },
  {
   "cell_type": "code",
   "execution_count": 28,
   "id": "s_y9lZPdX9wg",
   "metadata": {
    "colab": {
     "base_uri": "https://localhost:8080/"
    },
    "id": "s_y9lZPdX9wg",
    "outputId": "1d3d7a70-61b8-4243-a1c4-c1e1fcfb1388"
   },
   "outputs": [
    {
     "data": {
      "text/plain": [
       "<All keys matched successfully>"
      ]
     },
     "execution_count": 28,
     "metadata": {},
     "output_type": "execute_result"
    }
   ],
   "source": [
    "model.load_state_dict(torch.load('./checkpoint_best.pt'))"
   ]
  },
  {
   "cell_type": "markdown",
   "id": "rac8XfQ9xoGh",
   "metadata": {
    "id": "rac8XfQ9xoGh"
   },
   "source": [
    "Подготовим тестовые данные для того, чтобы подать их в модель."
   ]
  },
  {
   "cell_type": "code",
   "execution_count": 29,
   "id": "z0K_hZk9ubPU",
   "metadata": {
    "id": "z0K_hZk9ubPU"
   },
   "outputs": [],
   "source": [
    "test_dataset = NewsDataset(test.title.values.tolist())\n",
    "test_dataloader = DataLoader(test_dataset, batch_size=BATCH_SIZE, shuffle=False)"
   ]
  },
  {
   "cell_type": "markdown",
   "id": "A3pJnrIoxtnq",
   "metadata": {
    "id": "A3pJnrIoxtnq"
   },
   "source": [
    "Получим вектор предсказаний модели для тестовой выборки."
   ]
  },
  {
   "cell_type": "code",
   "execution_count": 30,
   "id": "d5rFG8fEubSD",
   "metadata": {
    "colab": {
     "base_uri": "https://localhost:8080/"
    },
    "id": "d5rFG8fEubSD",
    "outputId": "105a3850-c137-43c6-de25-49a422b3ab70"
   },
   "outputs": [
    {
     "name": "stderr",
     "output_type": "stream",
     "text": [
      "Processing test: 100%|████████████████████████| 125/125 [00:35<00:00,  3.52it/s]\n"
     ]
    }
   ],
   "source": [
    "model.eval()\n",
    "labels = np.array([])\n",
    "for titles in tqdm(test_dataloader, desc=f'Processing test', ncols=80):\n",
    "    tokenized_batch = tokenizer(\n",
    "        titles,\n",
    "        padding='max_length', \n",
    "        max_length=MAX_LEN, \n",
    "        truncation=True,\n",
    "        return_tensors='pt')\n",
    "    tokenized_batch = tokenized_batch.to(device)\n",
    "\n",
    "    with torch.no_grad():\n",
    "        preds = model(**tokenized_batch).logits\n",
    "\n",
    "    labels = np.concatenate(\n",
    "        (\n",
    "            labels,\n",
    "            np.argmax(preds.cpu().detach().numpy(), axis=1)\n",
    "        )\n",
    "    )"
   ]
  },
  {
   "cell_type": "markdown",
   "id": "R5dNoO9Zx0WN",
   "metadata": {
    "id": "R5dNoO9Zx0WN"
   },
   "source": [
    "Осталось сохранить эти предсказания в тестовый DataFrame и сохранить все в файл `predictions.tsv`."
   ]
  },
  {
   "cell_type": "code",
   "execution_count": 31,
   "id": "ueCzkZeZwach",
   "metadata": {
    "id": "ueCzkZeZwach"
   },
   "outputs": [],
   "source": [
    "test['is_fake'] = labels"
   ]
  },
  {
   "cell_type": "code",
   "execution_count": 32,
   "id": "0Xr96-hLwfPj",
   "metadata": {
    "id": "0Xr96-hLwfPj"
   },
   "outputs": [],
   "source": [
    "test.to_csv('./predictions.tsv', sep='\\t', index=False)"
   ]
  }
 ],
 "metadata": {
  "accelerator": "GPU",
  "colab": {
   "collapsed_sections": [],
   "name": "solution.ipynb",
   "provenance": []
  },
  "kernelspec": {
   "display_name": "Python 3 (ipykernel)",
   "language": "python",
   "name": "python3"
  },
  "language_info": {
   "codemirror_mode": {
    "name": "ipython",
    "version": 3
   },
   "file_extension": ".py",
   "mimetype": "text/x-python",
   "name": "python",
   "nbconvert_exporter": "python",
   "pygments_lexer": "ipython3",
   "version": "3.9.1"
  }
 },
 "nbformat": 4,
 "nbformat_minor": 5
}
